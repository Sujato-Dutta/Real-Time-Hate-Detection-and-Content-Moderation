{
 "cells": [
  {
   "cell_type": "markdown",
   "metadata": {},
   "source": [
    "# EDA: Hate Speech Dataset\n",
    "\n",
    "This notebook explores the hate speech dataset to get insights into the distribution of the dataset and also other key factors which may come handy in modeling."
   ]
  },
  {
   "cell_type": "code",
   "execution_count": 1,
   "id": "92074382",
   "metadata": {},
   "outputs": [],
   "source": [
    "# Setup\n",
    "import os, sys, warnings\n",
    "import numpy as np\n",
    "import pandas as pd\n",
    "import seaborn as sns\n",
    "import matplotlib.pyplot as plt\n",
    "\n",
    "warnings.filterwarnings('ignore')\n",
    "\n",
    "# Robustly add project root (folder containing 'src') to sys.path\n",
    "from pathlib import Path\n",
    "def _find_root(start: Path, max_up=5):\n",
    "    p = start\n",
    "    for _ in range(max_up):\n",
    "        if (p / 'src').exists():\n",
    "            return p\n",
    "        if p.parent == p:\n",
    "            break\n",
    "        p = p.parent\n",
    "    return start\n",
    "ROOT = _find_root(Path.cwd())\n",
    "if str(ROOT) not in sys.path:\n",
    "    sys.path.insert(0, str(ROOT))\n",
    "\n",
    "from src.data_ingestion import ingest_from_supabase\n",
    "\n",
    "pd.set_option('display.max_colwidth', 200)\n",
    "pd.set_option('display.max_columns', 100)\n",
    "pd.set_option('display.width', 120)"
   ]
  },
  {
   "cell_type": "markdown",
   "metadata": {},
   "source": [
    "## Load data from Supabase"
   ]
  },
  {
   "cell_type": "code",
   "execution_count": 2,
   "metadata": {},
   "outputs": [
    {
     "name": "stderr",
     "output_type": "stream",
     "text": [
      "2025-09-15 21:37:23,778 [INFO] data_ingestion - Initializing Supabase client for URL: https://hqtospmfdvddjhsiwtck.supabase.co\n",
      "2025-09-15 21:37:24,764 [INFO] data_ingestion - Ingesting data from Supabase table: Hate Speech Table\n",
      "2025-09-15 21:37:35,804 [INFO] data_ingestion - Fetched 24783 rows from Hate Speech Table\n"
     ]
    },
    {
     "name": "stdout",
     "output_type": "stream",
     "text": [
      "Shape: (24783, 7)\n"
     ]
    },
    {
     "data": {
      "text/html": [
       "<div>\n",
       "<style scoped>\n",
       "    .dataframe tbody tr th:only-of-type {\n",
       "        vertical-align: middle;\n",
       "    }\n",
       "\n",
       "    .dataframe tbody tr th {\n",
       "        vertical-align: top;\n",
       "    }\n",
       "\n",
       "    .dataframe thead th {\n",
       "        text-align: right;\n",
       "    }\n",
       "</style>\n",
       "<table border=\"1\" class=\"dataframe\">\n",
       "  <thead>\n",
       "    <tr style=\"text-align: right;\">\n",
       "      <th></th>\n",
       "      <th>Id</th>\n",
       "      <th>count</th>\n",
       "      <th>hate_speech</th>\n",
       "      <th>offensive_language</th>\n",
       "      <th>neither</th>\n",
       "      <th>class</th>\n",
       "      <th>tweet</th>\n",
       "    </tr>\n",
       "  </thead>\n",
       "  <tbody>\n",
       "    <tr>\n",
       "      <th>0</th>\n",
       "      <td>0</td>\n",
       "      <td>3</td>\n",
       "      <td>0</td>\n",
       "      <td>0</td>\n",
       "      <td>3</td>\n",
       "      <td>2</td>\n",
       "      <td>!!! RT @mayasolovely: As a woman you shouldn't complain about cleaning up your house. &amp;amp; as a man you should always take the trash out...</td>\n",
       "    </tr>\n",
       "    <tr>\n",
       "      <th>1</th>\n",
       "      <td>1</td>\n",
       "      <td>3</td>\n",
       "      <td>0</td>\n",
       "      <td>3</td>\n",
       "      <td>0</td>\n",
       "      <td>1</td>\n",
       "      <td>!!!!! RT @mleew17: boy dats cold...tyga dwn bad for cuffin dat hoe in the 1st place!!</td>\n",
       "    </tr>\n",
       "    <tr>\n",
       "      <th>2</th>\n",
       "      <td>2</td>\n",
       "      <td>3</td>\n",
       "      <td>0</td>\n",
       "      <td>3</td>\n",
       "      <td>0</td>\n",
       "      <td>1</td>\n",
       "      <td>!!!!!!! RT @UrKindOfBrand Dawg!!!! RT @80sbaby4life: You ever fuck a bitch and she start to cry? You be confused as shit</td>\n",
       "    </tr>\n",
       "    <tr>\n",
       "      <th>3</th>\n",
       "      <td>3</td>\n",
       "      <td>3</td>\n",
       "      <td>0</td>\n",
       "      <td>2</td>\n",
       "      <td>1</td>\n",
       "      <td>1</td>\n",
       "      <td>!!!!!!!!! RT @C_G_Anderson: @viva_based she look like a tranny</td>\n",
       "    </tr>\n",
       "    <tr>\n",
       "      <th>4</th>\n",
       "      <td>4</td>\n",
       "      <td>6</td>\n",
       "      <td>0</td>\n",
       "      <td>6</td>\n",
       "      <td>0</td>\n",
       "      <td>1</td>\n",
       "      <td>!!!!!!!!!!!!! RT @ShenikaRoberts: The shit you hear about me might be true or it might be faker than the bitch who told it to ya &amp;#57361;</td>\n",
       "    </tr>\n",
       "  </tbody>\n",
       "</table>\n",
       "</div>"
      ],
      "text/plain": [
       "  Id  count hate_speech offensive_language neither  class  \\\n",
       "0  0      3           0                  0       3      2   \n",
       "1  1      3           0                  3       0      1   \n",
       "2  2      3           0                  3       0      1   \n",
       "3  3      3           0                  2       1      1   \n",
       "4  4      6           0                  6       0      1   \n",
       "\n",
       "                                                                                                                                          tweet  \n",
       "0  !!! RT @mayasolovely: As a woman you shouldn't complain about cleaning up your house. &amp; as a man you should always take the trash out...  \n",
       "1                                                         !!!!! RT @mleew17: boy dats cold...tyga dwn bad for cuffin dat hoe in the 1st place!!  \n",
       "2                      !!!!!!! RT @UrKindOfBrand Dawg!!!! RT @80sbaby4life: You ever fuck a bitch and she start to cry? You be confused as shit  \n",
       "3                                                                                !!!!!!!!! RT @C_G_Anderson: @viva_based she look like a tranny  \n",
       "4     !!!!!!!!!!!!! RT @ShenikaRoberts: The shit you hear about me might be true or it might be faker than the bitch who told it to ya &#57361;  "
      ]
     },
     "metadata": {},
     "output_type": "display_data"
    }
   ],
   "source": [
    "df = ingest_from_supabase()\n",
    "print(f'Shape: {df.shape}')\n",
    "display(df.head())"
   ]
  },
  {
   "cell_type": "markdown",
   "metadata": {},
   "source": [
    "## Missing values\n",
    "Top columns by number of missing values."
   ]
  },
  {
   "cell_type": "code",
   "execution_count": 6,
   "metadata": {},
   "outputs": [
    {
     "data": {
      "text/plain": [
       "Id                    0\n",
       "count                 0\n",
       "hate_speech           0\n",
       "offensive_language    0\n",
       "neither               0\n",
       "class                 0\n",
       "tweet                 0\n",
       "dtype: int64"
      ]
     },
     "execution_count": 6,
     "metadata": {},
     "output_type": "execute_result"
    }
   ],
   "source": [
    "df.isna().sum().sort_values(ascending=False)"
   ]
  },
  {
   "cell_type": "markdown",
   "id": "0a32c49a",
   "metadata": {},
   "source": [
    "## Comparison: hate_speech vs offensive_language vs neither\n",
    "This cell computes and visualizes the number of records in each category.\n",
    "\n",
    "It supports two schemas: (1) a single label column (e.g., class, label) where 0/1/2 map to the three categories; (2) three vote/count columns named hate_speech, offensive_language, and neither, in which case the row's category is argmax of those columns."
   ]
  },
  {
   "cell_type": "code",
   "execution_count": 8,
   "id": "6b157cd2",
   "metadata": {},
   "outputs": [
    {
     "data": {
      "image/png": "[encoded data removed]",
      "text/plain": [
       "<Figure size 600x400 with 1 Axes>"
      ]
     },
     "metadata": {},
     "output_type": "display_data"
    },
    {
     "data": {
      "text/html": [
       "<div>\n",
       "<style scoped>\n",
       "    .dataframe tbody tr th:only-of-type {\n",
       "        vertical-align: middle;\n",
       "    }\n",
       "\n",
       "    .dataframe tbody tr th {\n",
       "        vertical-align: top;\n",
       "    }\n",
       "\n",
       "    .dataframe thead th {\n",
       "        text-align: right;\n",
       "    }\n",
       "</style>\n",
       "<table border=\"1\" class=\"dataframe\">\n",
       "  <thead>\n",
       "    <tr style=\"text-align: right;\">\n",
       "      <th>class</th>\n",
       "      <th>hate_speech</th>\n",
       "      <th>offensive_language</th>\n",
       "      <th>neither</th>\n",
       "    </tr>\n",
       "  </thead>\n",
       "  <tbody>\n",
       "    <tr>\n",
       "      <th>count</th>\n",
       "      <td>1430</td>\n",
       "      <td>19190</td>\n",
       "      <td>4163</td>\n",
       "    </tr>\n",
       "  </tbody>\n",
       "</table>\n",
       "</div>"
      ],
      "text/plain": [
       "class  hate_speech  offensive_language  neither\n",
       "count         1430               19190     4163"
      ]
     },
     "metadata": {},
     "output_type": "display_data"
    }
   ],
   "source": [
    "label_map = {0: 'hate_speech', 1: 'offensive_language', 2: 'neither'}\n",
    "categories = ['hate_speech', 'offensive_language', 'neither']\n",
    "counts = None\n",
    "\n",
    "if not df.empty:\n",
    "    # Option A: use label/ class column if present\n",
    "    label_col = next((c for c in ['class','label','target'] if c in df.columns), None)\n",
    "    if label_col is not None:\n",
    "        labels = df[label_col]\n",
    "        if pd.api.types.is_numeric_dtype(labels):\n",
    "            labels_named = labels.map(label_map).fillna(labels.astype(str))\n",
    "        else:\n",
    "            # Normalize to lowercase and expected names if possible\n",
    "            labels_named = labels.astype(str).str.strip().str.lower()\n",
    "        counts = labels_named.value_counts().reindex(categories).fillna(0).astype(int)\n",
    "    else:\n",
    "        # Option B: derive by majority vote across three columns if available\n",
    "        if all(c in df.columns for c in categories):\n",
    "            sub = df[categories].copy()\n",
    "            # ensure numeric\n",
    "            for c in categories:\n",
    "                sub[c] = pd.to_numeric(sub[c], errors='coerce').fillna(0)\n",
    "            winners = sub[categories].idxmax(axis=1)\n",
    "            counts = winners.value_counts().reindex(categories).fillna(0).astype(int)\n",
    "\n",
    "if counts is None:\n",
    "    print('Could not determine category counts — ensure you have a label column or the three vote columns present.')\n",
    "else:\n",
    "    fig, ax = plt.subplots(figsize=(6,4))\n",
    "    sns.barplot(x=counts.index, y=counts.values, palette='Set2', ax=ax)\n",
    "    ax.set_title('Number of records by category')\n",
    "    ax.set_xlabel('category')\n",
    "    ax.set_ylabel('count')\n",
    "    # Annotate bars\n",
    "    for i, v in enumerate(counts.values):\n",
    "        ax.text(i, v + max(counts.values)*0.01, str(int(v)), ha='center', va='bottom', fontsize=9)\n",
    "    plt.tight_layout()\n",
    "    plt.show()\n",
    "    display(counts.to_frame('count').T)"
   ]
  },
  {
   "cell_type": "markdown",
   "id": "f57ea79e",
   "metadata": {},
   "source": [
    "# Conclusion\n",
    "There is clear imbalance in the dataset as can be seen from above as 'offensive_language' comments are much more than 'hate_speech' and 'neither'. This may lead to model bias as the model may learn to classify comments as offensive_language based on the frequency of these words in the dataset.\n"
   ]
  }
 ],
 "metadata": {
  "kernelspec": {
   "display_name": "venv",
   "language": "python",
   "name": "python3"
  },
  "language_info": {
   "codemirror_mode": {
    "name": "ipython",
    "version": 3
   },
   "file_extension": ".py",
   "mimetype": "text/x-python",
   "name": "python",
   "nbconvert_exporter": "python",
   "pygments_lexer": "ipython3",
   "version": "3.11.7"
  }
 },
 "nbformat": 4,
 "nbformat_minor": 5
}
